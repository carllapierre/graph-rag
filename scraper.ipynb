{
 "cells": [
  {
   "cell_type": "code",
   "execution_count": 16,
   "id": "b0856b5a-e3df-4430-afd3-8002bbd4273a",
   "metadata": {
    "collapsed": true,
    "jupyter": {
     "outputs_hidden": true
    }
   },
   "outputs": [
    {
     "name": "stdout",
     "output_type": "stream",
     "text": [
      "Requirement already satisfied: requests in ./.venv/lib/python3.12/site-packages (2.32.3)\n",
      "Requirement already satisfied: beautifulsoup4 in ./.venv/lib/python3.12/site-packages (4.12.3)\n",
      "Collecting WeasyPrint\n",
      "  Downloading weasyprint-62.3-py3-none-any.whl.metadata (3.7 kB)\n",
      "Requirement already satisfied: charset-normalizer<4,>=2 in ./.venv/lib/python3.12/site-packages (from requests) (3.3.2)\n",
      "Requirement already satisfied: idna<4,>=2.5 in ./.venv/lib/python3.12/site-packages (from requests) (3.7)\n",
      "Requirement already satisfied: urllib3<3,>=1.21.1 in ./.venv/lib/python3.12/site-packages (from requests) (2.2.2)\n",
      "Requirement already satisfied: certifi>=2017.4.17 in ./.venv/lib/python3.12/site-packages (from requests) (2024.7.4)\n",
      "Requirement already satisfied: soupsieve>1.2 in ./.venv/lib/python3.12/site-packages (from beautifulsoup4) (2.5)\n",
      "Collecting pydyf>=0.10.0 (from WeasyPrint)\n",
      "  Downloading pydyf-0.10.0-py3-none-any.whl.metadata (2.5 kB)\n",
      "Requirement already satisfied: cffi>=0.6 in ./.venv/lib/python3.12/site-packages (from WeasyPrint) (1.16.0)\n",
      "Collecting html5lib>=1.1 (from WeasyPrint)\n",
      "  Downloading html5lib-1.1-py2.py3-none-any.whl.metadata (16 kB)\n",
      "Requirement already satisfied: tinycss2>=1.3.0 in ./.venv/lib/python3.12/site-packages (from WeasyPrint) (1.3.0)\n",
      "Collecting cssselect2>=0.1 (from WeasyPrint)\n",
      "  Downloading cssselect2-0.7.0-py3-none-any.whl.metadata (2.9 kB)\n",
      "Collecting Pyphen>=0.9.1 (from WeasyPrint)\n",
      "  Downloading pyphen-0.15.0-py3-none-any.whl.metadata (3.3 kB)\n",
      "Requirement already satisfied: Pillow>=9.1.0 in ./.venv/lib/python3.12/site-packages (from WeasyPrint) (10.4.0)\n",
      "Collecting fonttools>=4.0.0 (from fonttools[woff]>=4.0.0->WeasyPrint)\n",
      "  Downloading fonttools-4.53.0-cp312-cp312-macosx_11_0_arm64.whl.metadata (162 kB)\n",
      "\u001b[2K     \u001b[38;2;114;156;31m━━━━━━━━━━━━━━━━━━━━━━━━━━━━━━━━━━━━━━━\u001b[0m \u001b[32m162.2/162.2 kB\u001b[0m \u001b[31m5.8 MB/s\u001b[0m eta \u001b[36m0:00:00\u001b[0m\n",
      "\u001b[?25hRequirement already satisfied: pycparser in ./.venv/lib/python3.12/site-packages (from cffi>=0.6->WeasyPrint) (2.22)\n",
      "Requirement already satisfied: webencodings in ./.venv/lib/python3.12/site-packages (from cssselect2>=0.1->WeasyPrint) (0.5.1)\n",
      "Collecting zopfli>=0.1.4 (from fonttools[woff]>=4.0.0->WeasyPrint)\n",
      "  Downloading zopfli-0.2.3-cp312-cp312-macosx_10_9_universal2.whl.metadata (2.9 kB)\n",
      "Collecting brotli>=1.0.1 (from fonttools[woff]>=4.0.0->WeasyPrint)\n",
      "  Downloading Brotli-1.1.0-cp312-cp312-macosx_10_9_universal2.whl.metadata (5.5 kB)\n",
      "Requirement already satisfied: six>=1.9 in ./.venv/lib/python3.12/site-packages (from html5lib>=1.1->WeasyPrint) (1.16.0)\n",
      "Downloading weasyprint-62.3-py3-none-any.whl (289 kB)\n",
      "\u001b[2K   \u001b[38;2;114;156;31m━━━━━━━━━━━━━━━━━━━━━━━━━━━━━━━━━━━━━━━━\u001b[0m \u001b[32m289.3/289.3 kB\u001b[0m \u001b[31m12.3 MB/s\u001b[0m eta \u001b[36m0:00:00\u001b[0m\n",
      "\u001b[?25hDownloading cssselect2-0.7.0-py3-none-any.whl (15 kB)\n",
      "Downloading fonttools-4.53.0-cp312-cp312-macosx_11_0_arm64.whl (2.2 MB)\n",
      "\u001b[2K   \u001b[38;2;114;156;31m━━━━━━━━━━━━━━━━━━━━━━━━━━━━━━━━━━━━━━━━\u001b[0m \u001b[32m2.2/2.2 MB\u001b[0m \u001b[31m16.3 MB/s\u001b[0m eta \u001b[36m0:00:00\u001b[0m31m17.4 MB/s\u001b[0m eta \u001b[36m0:00:01\u001b[0m\n",
      "\u001b[?25hDownloading html5lib-1.1-py2.py3-none-any.whl (112 kB)\n",
      "\u001b[2K   \u001b[38;2;114;156;31m━━━━━━━━━━━━━━━━━━━━━━━━━━━━━━━━━━━━━━━━\u001b[0m \u001b[32m112.2/112.2 kB\u001b[0m \u001b[31m10.5 MB/s\u001b[0m eta \u001b[36m0:00:00\u001b[0m\n",
      "\u001b[?25hDownloading pydyf-0.10.0-py3-none-any.whl (8.1 kB)\n",
      "Downloading pyphen-0.15.0-py3-none-any.whl (2.1 MB)\n",
      "\u001b[2K   \u001b[38;2;114;156;31m━━━━━━━━━━━━━━━━━━━━━━━━━━━━━━━━━━━━━━━━\u001b[0m \u001b[32m2.1/2.1 MB\u001b[0m \u001b[31m15.0 MB/s\u001b[0m eta \u001b[36m0:00:00\u001b[0m31m15.3 MB/s\u001b[0m eta \u001b[36m0:00:01\u001b[0m\n",
      "\u001b[?25hDownloading Brotli-1.1.0-cp312-cp312-macosx_10_9_universal2.whl (873 kB)\n",
      "\u001b[2K   \u001b[38;2;114;156;31m━━━━━━━━━━━━━━━━━━━━━━━━━━━━━━━━━━━━━━━━\u001b[0m \u001b[32m873.1/873.1 kB\u001b[0m \u001b[31m14.8 MB/s\u001b[0m eta \u001b[36m0:00:00\u001b[0m31m17.2 MB/s\u001b[0m eta \u001b[36m0:00:01\u001b[0m\n",
      "\u001b[?25hDownloading zopfli-0.2.3-cp312-cp312-macosx_10_9_universal2.whl (295 kB)\n",
      "\u001b[2K   \u001b[38;2;114;156;31m━━━━━━━━━━━━━━━━━━━━━━━━━━━━━━━━━━━━━━━━\u001b[0m \u001b[32m295.7/295.7 kB\u001b[0m \u001b[31m13.1 MB/s\u001b[0m eta \u001b[36m0:00:00\u001b[0m\n",
      "\u001b[?25hInstalling collected packages: brotli, zopfli, Pyphen, pydyf, html5lib, fonttools, cssselect2, WeasyPrint\n",
      "Successfully installed Pyphen-0.15.0 WeasyPrint-62.3 brotli-1.1.0 cssselect2-0.7.0 fonttools-4.53.0 html5lib-1.1 pydyf-0.10.0 zopfli-0.2.3\n"
     ]
    }
   ],
   "source": [
    "!pip install requests beautifulsoup4 WeasyPrint\n"
   ]
  },
  {
   "cell_type": "code",
   "execution_count": 17,
   "id": "04ed9aa5-e998-4e30-9f7c-913cad0176c2",
   "metadata": {},
   "outputs": [],
   "source": [
    "import requests\n",
    "from bs4 import BeautifulSoup\n",
    "from weasyprint import HTML\n",
    "import xml.etree.ElementTree as ET"
   ]
  },
  {
   "cell_type": "code",
   "execution_count": 18,
   "id": "c2395bfa-707c-45a0-9297-9330e59088a8",
   "metadata": {
    "collapsed": true,
    "jupyter": {
     "outputs_hidden": true
    }
   },
   "outputs": [
    {
     "name": "stdout",
     "output_type": "stream",
     "text": [
      "['https://www.osedea.com/insight/10questionstocharlesstemarie', 'https://www.osedea.com/insight/10th-anniversary', 'https://www.osedea.com/insight/2022-time-capsule-osedea', 'https://www.osedea.com/insight/2023-time-capsule', 'https://www.osedea.com/insight/4-day-work-week-benefits', 'https://www.osedea.com/insight/8-css-wizard-spells', 'https://www.osedea.com/insight/acceptance-criteria', 'https://www.osedea.com/insight/digital-accessibility', 'https://www.osedea.com/insight/how-to-choose-the-right-digital-development-partner', 'https://www.osedea.com/insight/ai-auditing-phase', 'https://www.osedea.com/insight/ai-hackathon', 'https://www.osedea.com/insight/ai-osedea', 'https://www.osedea.com/insight/ai-quebec-innovation', 'https://www.osedea.com/insight/extending-spots-perception-with-computer-vision', 'https://www.osedea.com/insight/turning-on-and-off-a-light-the-smart-way', 'https://www.osedea.com/insight/how-to-learn-smarter-not-harder', 'https://www.osedea.com/insight/article-vector-databases', 'https://www.osedea.com/insight/dataops-mlops-article', 'https://www.osedea.com/insight/workfromanywhere-article', 'https://www.osedea.com/insight/tips-and-best-practices-for-flutter', 'https://www.osedea.com/insight/brainstorming-workshops-copy', 'https://www.osedea.com/insight/our-take-on-talent-retention-and-attraction-during-covid', 'https://www.osedea.com/insight/benefits-of-the-paid-employee-sabbatical', 'https://www.osedea.com/insight/aws-step-functions', 'https://www.osedea.com/insight/beem-determination-pays-off', 'https://www.osedea.com/insight/benefits-team-engagement', 'https://www.osedea.com/insight/boost-efficiency-in-vscode-with-vim-emulator-extension', 'https://www.osedea.com/insight/c4model', 'https://www.osedea.com/insight/data-computing-with-python', 'https://www.osedea.com/insight/what-makes-our-team-happy', 'https://www.osedea.com/insight/celebrating-our-wins', 'https://www.osedea.com/insight/soc-2-type-2-certification', 'https://www.osedea.com/insight/ceslasvegas2024', 'https://www.osedea.com/insight/chain-of-thought-and-language-models', 'https://www.osedea.com/insight/why-you-should-join-our-team', 'https://www.osedea.com/insight/reading-better-job-technology', 'https://www.osedea.com/insight/recap-citd-nantes-2022', 'https://www.osedea.com/insight/citd2022', 'https://www.osedea.com/insight/osedea-summer-reading-recommendations', 'https://www.osedea.com/insight/commanding-spot-sdk', 'https://www.osedea.com/insight/typescript-app-best-practices', 'https://www.osedea.com/insight/the-measure-of-a-developer', 'https://www.osedea.com/insight/how-to-avoid-failure-in-your-digital-projects', 'https://www.osedea.com/insight/how-osedeas-real-world-ai-expertise-propels-businesses-forward', 'https://www.osedea.com/insight/how-to-successfully-implement-a-project-with-an-external-it-team', 'https://www.osedea.com/insight/company-wide-secure-cockpit', 'https://www.osedea.com/insight/digital-solutions-and-why-you-need-pros', 'https://www.osedea.com/insight/paid-sabbatical-benefits', 'https://www.osedea.com/insight/data-cleaning-with-python', 'https://www.osedea.com/insight/dataset-management', 'https://www.osedea.com/insight/growing-business-to-a-world-class-competitive-firm', 'https://www.osedea.com/insight/discovering-hannover-messe', 'https://www.osedea.com/insight/deep-dive-into-user-stories', 'https://www.osedea.com/insight/getting-started-with-directus-7-and-docker', 'https://www.osedea.com/insight/full-cycle-development', 'https://www.osedea.com/insight/investing-in-inclusion', 'https://www.osedea.com/insight/diversity-and-inclusion', 'https://www.osedea.com/insight/docker-for-faster-development', 'https://www.osedea.com/insight/our-programming-and-design-school', 'https://www.osedea.com/insight/elevating-engagement-in-hybrid-workplaces', 'https://www.osedea.com/insight/employer-of-the-year', 'https://www.osedea.com/insight/osedea-platform-engineering', 'https://www.osedea.com/insight/how-eventstorming-facilitated-knowledge-transfer-and-discovery', 'https://www.osedea.com/insight/should-you-put-todos-in-the-source-code', 'https://www.osedea.com/insight/finding-meaning', 'https://www.osedea.com/insight/flexibility-work-life-harmony', 'https://www.osedea.com/insight/four-day-work-week-guide', 'https://www.osedea.com/insight/how-to-handle-and-reduce-risk-of-exceptions', 'https://www.osedea.com/insight/handling-global-state-in-react-in-2022', 'https://www.osedea.com/insight/giving-spot-computer-vision-goggles', 'https://www.osedea.com/insight/hannover-messe-2024', 'https://www.osedea.com/insight/how-to-overcome-your-insecurities-as-a-dev', 'https://www.osedea.com/insight/in-house-hackathon-ideas', 'https://www.osedea.com/insight/inclusive-design-sprint', 'https://www.osedea.com/insight/unleashing-innovation-at-our-16-hour-ai-hackathon', 'https://www.osedea.com/insight/journal-de-montreal', 'https://www.osedea.com/insight/keep-business-running-during-crisis', 'https://www.osedea.com/insight/why-i-work-in-a-software-development-agency', 'https://www.osedea.com/insight/the-hidden-cost-of-hiring-the-wrong-digital-partner', 'https://www.osedea.com/insight/recap-2020', 'https://www.osedea.com/insight/london-tech-week-2022', 'https://www.osedea.com/insight/london-tech-week-2023', 'https://www.osedea.com/insight/meet-spot', 'https://www.osedea.com/insight/meetisabellebouchard', 'https://www.osedea.com/insight/mental-health-workplace', 'https://www.osedea.com/insight/reactive-rich-domain-models', 'https://www.osedea.com/insight/no-managers-structure', 'https://www.osedea.com/insight/our-take-on-2022-tech-trends', 'https://www.osedea.com/insight/our-2021-time-capsule', 'https://www.osedea.com/insight/rebranding-ourselves-ux-ui', 'https://www.osedea.com/insight/open-source-for-good', 'https://www.osedea.com/insight/streamlining-communication-with-protobuf-and-grpc', 'https://www.osedea.com/insight/osedea-and-mila-partnership', 'https://www.osedea.com/insight/topgrowingosedea', 'https://www.osedea.com/insight/osedea-growth-leaders-of-2022', 'https://www.osedea.com/insight/osedea-top-employer-montreal', 'https://www.osedea.com/insight/osedea-portraits-innovation-ai-and-the-future-of-work-with-armand-briere', 'https://www.osedea.com/insight/parental-program-osedea', 'https://www.osedea.com/insight/physical-mental-health', 'https://www.osedea.com/insight/sme-of-the-week', 'https://www.osedea.com/insight/portraitspamelajessicazito', 'https://www.osedea.com/insight/why-a-us-company-should-choose-a-montreal-based-software-development-partner', 'https://www.osedea.com/insight/what-not-to-fix-legacy-codebase', 'https://www.osedea.com/insight/team-engagement-recognition', 'https://www.osedea.com/insight/remote-activities', 'https://www.osedea.com/insight/remote-working-virtual-reality', 'https://www.osedea.com/insight/see-what-spot-robot-sees-with-autowalk-mission-evaluator', 'https://www.osedea.com/insight/streamlining-predictive-analytics-with-scikit-learn', 'https://www.osedea.com/insight/spot-101', 'https://www.osedea.com/insight/spot-vertical-farming', 'https://www.osedea.com/insight/spot-autowalk-mission-evaluator', 'https://www.osedea.com/insight/spot-in-the-news', 'https://www.osedea.com/insight/spot-showcased-at-the-smart-factory-by-deloitte-montreal', 'https://www.osedea.com/insight/spot-is-making-an-appearance-on-the-show-genial', 'https://www.osedea.com/insight/spot-in-the-metro', 'https://www.osedea.com/insight/spot-justin-trudeau-all-in', 'https://www.osedea.com/insight/tealbook', 'https://www.osedea.com/insight/technology-trends-for-2021', 'https://www.osedea.com/insight/three-techniques-to-get-back-to-code-faster-after-a-meeting', 'https://www.osedea.com/insight/when-doing-something-for-free-makes-sense', 'https://www.osedea.com/insight/typescript-simulating-birds-flocks']\n"
     ]
    }
   ],
   "source": [
    "def extract_blog_urls_from_sitemap(sitemap_url):\n",
    "    response = requests.get(sitemap_url)\n",
    "    # parse the XML content\n",
    "    root = ET.fromstring(response.content)\n",
    "    namespace = {'sitemap': 'http://www.sitemaps.org/schemas/sitemap/0.9',\n",
    "                 'xhtml': 'http://www.w3.org/1999/xhtml'}\n",
    "    \n",
    "    urls = []\n",
    "\n",
    "    for url in root.findall('sitemap:url', namespace):\n",
    "        loc = url.find('sitemap:loc', namespace).text.strip()  # Use strip() to clean the URL\n",
    "        if '/insight/' in loc:  # Filter to include only blog post URLs\n",
    "            urls.append(loc)\n",
    "    \n",
    "    return urls\n",
    "\n",
    "# URL of the sitemap\n",
    "sitemap_url = 'https://www.osedea.com/sitemap.xml'\n",
    "\n",
    "# Extract blog post URLs\n",
    "blog_urls = extract_blog_urls_from_sitemap(sitemap_url)\n",
    "print(blog_urls)\n",
    "\n"
   ]
  },
  {
   "cell_type": "code",
   "execution_count": null,
   "id": "4bba146b-409a-4258-99bc-c3e7312deb1b",
   "metadata": {},
   "outputs": [],
   "source": [
    "def save_blog_post_as_pdf(url, filepath):\n",
    "    response = requests.get(url)\n",
    "    soup = BeautifulSoup(response.content, 'html.parser')\n",
    "\n",
    "    # Extract the title from the h1 tag\n",
    "    title = soup.find('h1').text.strip()\n",
    "\n",
    "    # Initialize a variable to hold the combined content\n",
    "    full_html_content = f\"<h1>{title}</h1>\"\n",
    "\n",
    "    # Extract the content from divs with ids starting with 'article'\n",
    "    for i in range(1, 10):  # Assuming ids like 'article1', 'article2', ..., 'article9'\n",
    "        article_div = soup.find('div', id=f'article{i}')\n",
    "        if article_div:\n",
    "            full_html_content += str(article_div)\n",
    "\n",
    "    # Convert the HTML content to a PDF using WeasyPrint\n",
    "    HTML(string=full_html_content).write_pdf(filepath)\n",
    "\n",
    "for index, url in enumerate(blog_urls):\n",
    "    filename = f\"./data/blog_post_{index+1}.pdf\"  # Save PDF in /data directory\n",
    "    save_blog_post_as_pdf(url, filename)\n"
   ]
  },
  {
   "cell_type": "code",
   "execution_count": null,
   "id": "030d1714-d944-4fe6-9659-2db8f51154e1",
   "metadata": {},
   "outputs": [],
   "source": []
  }
 ],
 "metadata": {
  "kernelspec": {
   "display_name": "Python 3 (ipykernel)",
   "language": "python",
   "name": "python3"
  },
  "language_info": {
   "codemirror_mode": {
    "name": "ipython",
    "version": 3
   },
   "file_extension": ".py",
   "mimetype": "text/x-python",
   "name": "python",
   "nbconvert_exporter": "python",
   "pygments_lexer": "ipython3",
   "version": "3.12.0"
  }
 },
 "nbformat": 4,
 "nbformat_minor": 5
}
